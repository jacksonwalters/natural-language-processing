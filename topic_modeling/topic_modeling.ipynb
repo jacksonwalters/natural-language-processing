{
 "cells": [
  {
   "cell_type": "code",
   "execution_count": 1,
   "id": "b567ed95-f162-46d3-a51d-c047443a7b33",
   "metadata": {},
   "outputs": [],
   "source": [
    "#https://medium.com/@mishra.thedeepak/doc2vec-simple-implementation-example-df2afbbfbad5"
   ]
  },
  {
   "cell_type": "code",
   "execution_count": 3,
   "id": "eb63d280-0437-42a3-b879-fc7c07cbd004",
   "metadata": {},
   "outputs": [],
   "source": [
    "import numpy as np # linear algebra\n",
    "import pandas as pd # data processing, CSV file I/O (e.g. pd.read_csv)\n",
    "from sklearn.model_selection import train_test_split # function for splitting data to train and test sets\n",
    "\n",
    "import nltk\n",
    "from nltk.corpus import stopwords\n",
    "from nltk.classify import SklearnClassifier\n",
    "\n",
    "import matplotlib.pyplot as plt\n",
    "\n",
    "data = pd.read_csv('sentiment.csv')\n",
    "# Keeping only the neccessary columns\n",
    "data = data[['text','sentiment']]"
   ]
  },
  {
   "cell_type": "code",
   "execution_count": 4,
   "id": "1f40cc2e-68b7-4345-9ca4-3681613ceb27",
   "metadata": {},
   "outputs": [
    {
     "data": {
      "text/plain": [
       "13871"
      ]
     },
     "execution_count": 4,
     "metadata": {},
     "output_type": "execute_result"
    }
   ],
   "source": [
    "len(data)"
   ]
  },
  {
   "cell_type": "code",
   "execution_count": 5,
   "id": "8cef68fb-1398-41da-8359-54f7fd2fcf93",
   "metadata": {},
   "outputs": [],
   "source": [
    "#perform doc2vec embeddings on comments with gensim\n",
    "from gensim.models.doc2vec import Doc2Vec, TaggedDocument\n",
    "from nltk.tokenize import word_tokenize"
   ]
  },
  {
   "cell_type": "code",
   "execution_count": 6,
   "id": "4e29126f-e385-48fa-98d7-7e1b58252248",
   "metadata": {},
   "outputs": [],
   "source": [
    "sample_data = data['text'][:1000]"
   ]
  },
  {
   "cell_type": "code",
   "execution_count": 7,
   "id": "7de91714-6dc2-450e-a7e1-b9f05ad244e0",
   "metadata": {},
   "outputs": [],
   "source": [
    "tagged_data = [TaggedDocument(words=word_tokenize(_d.lower()), tags=[str(i)]) for i, _d in enumerate(sample_data)]"
   ]
  },
  {
   "cell_type": "code",
   "execution_count": 8,
   "id": "16471d2f-7b01-420a-81d1-770c5da2a1ea",
   "metadata": {},
   "outputs": [
    {
     "name": "stdout",
     "output_type": "stream",
     "text": [
      "0 1 2 3 4 5 6 7 8 9 10 11 12 13 14 15 16 17 18 19 20 21 22 23 24 25 26 27 28 29 30 31 32 33 34 35 36 37 38 39 40 41 42 43 44 45 46 47 48 49 50 51 52 53 54 55 56 57 58 59 60 61 62 63 64 65 66 67 68 69 70 71 72 73 74 75 76 77 78 79 80 81 82 83 84 85 86 87 88 89 90 91 92 93 94 95 96 97 98 99 Model Saved\n"
     ]
    }
   ],
   "source": [
    "max_epochs = 100\n",
    "vec_size = 20\n",
    "alpha = 0.025\n",
    "\n",
    "model = Doc2Vec(vector_size=vec_size,\n",
    "                alpha=alpha, \n",
    "                min_alpha=0.00025,\n",
    "                min_count=1,\n",
    "                dm =1)\n",
    "  \n",
    "model.build_vocab(tagged_data)\n",
    "\n",
    "for epoch in range(max_epochs):\n",
    "    print('{0}'.format(epoch), end =\" \")\n",
    "    model.train(tagged_data,\n",
    "                total_examples=model.corpus_count,\n",
    "                epochs=model.epochs)\n",
    "    # decrease the learning rate\n",
    "    model.alpha -= 0.0002\n",
    "    # fix the learning rate, no decay\n",
    "    model.min_alpha = model.alpha\n",
    "\n",
    "model.save(\"d2v.model\")\n",
    "print(\"Model Saved\")"
   ]
  },
  {
   "cell_type": "code",
   "execution_count": 9,
   "id": "bcc39818-d628-4552-b4af-714c9f969967",
   "metadata": {},
   "outputs": [
    {
     "name": "stdout",
     "output_type": "stream",
     "text": [
      "V1_infer [ 0.00438352 -0.06997187  0.12097137  0.14664769 -0.06645499 -0.09574528\n",
      "  0.05433995  0.20012493 -0.2053167   0.1396936   0.14670274 -0.11339499\n",
      "  0.10044324 -0.01624791  0.15571085  0.24790634  0.30072775 -0.07323141\n",
      " -0.21964289 -0.2859862 ]\n",
      "[('476', 0.8480947017669678), ('931', 0.7694255113601685), ('823', 0.7573289275169373), ('629', 0.7566874027252197), ('294', 0.7374776601791382), ('854', 0.7335252165794373), ('588', 0.6952683329582214), ('115', 0.688560962677002), ('614', 0.6870896220207214), ('175', 0.6698516607284546)]\n",
      "[-1.1031214 -0.3088549  1.7857615  5.332283   2.8409655  1.8192695\n",
      " -3.0525866  0.6074105  1.9624678  4.1651816  4.1532817 -4.1484647\n",
      " -2.0976112  1.0643601  4.15989   -3.8735318  7.744615  -1.3950467\n",
      " -5.1323404 -5.5368285]\n"
     ]
    }
   ],
   "source": [
    "model= Doc2Vec.load(\"d2v.model\")\n",
    "#to find the vector of a document which is not in training data\n",
    "test_data = word_tokenize(\"hello how are you\".lower())\n",
    "v1 = model.infer_vector(test_data)\n",
    "print(\"V1_infer\", v1)\n",
    "\n",
    "# to find most similar doc using tags\n",
    "similar_doc = model.dv.most_similar('1')\n",
    "print(similar_doc)\n",
    "\n",
    "# to find vector of doc in training data using tags or in other words, printing the vector of document at index 1 in training data\n",
    "print(model.dv['1'])"
   ]
  },
  {
   "cell_type": "code",
   "execution_count": 10,
   "id": "6cf55192-14ff-48c6-8824-0585b4c814c6",
   "metadata": {},
   "outputs": [],
   "source": [
    "doc_vectors = {doc:model.infer_vector(word_tokenize(doc.lower())) for doc in sample_data}"
   ]
  },
  {
   "cell_type": "code",
   "execution_count": 11,
   "id": "50512a84-b93e-4062-8ab8-75b58c864c3b",
   "metadata": {},
   "outputs": [
    {
     "data": {
      "text/plain": [
       "array([ 0.06330448, -0.21788867,  0.3508768 ,  0.17774434, -0.0566807 ,\n",
       "       -0.0211945 ,  0.17575681,  0.3887645 , -0.19505577,  0.20557337,\n",
       "        0.24518056, -0.13288654,  0.24782242, -0.10664132,  0.31781647,\n",
       "        0.23959166,  0.6224292 , -0.14572848, -0.365514  , -0.46876875],\n",
       "      dtype=float32)"
      ]
     },
     "execution_count": 11,
     "metadata": {},
     "output_type": "execute_result"
    }
   ],
   "source": [
    "list(doc_vectors.values())[1]"
   ]
  },
  {
   "cell_type": "code",
   "execution_count": 12,
   "id": "84da8feb-2a80-449c-bb7e-2b202d3fcfe2",
   "metadata": {},
   "outputs": [],
   "source": [
    "#perform k-means clustering on embedded documents"
   ]
  },
  {
   "cell_type": "code",
   "execution_count": 13,
   "id": "dd8a3e34-8cc2-451f-95b6-8fbe723fdde7",
   "metadata": {},
   "outputs": [
    {
     "data": {
      "image/png": "[encoded data removed]",
      "text/plain": [
       "<Figure size 640x480 with 1 Axes>"
      ]
     },
     "metadata": {},
     "output_type": "display_data"
    }
   ],
   "source": [
    "from sklearn.cluster import KMeans\n",
    "\n",
    "data = list(doc_vectors.values())\n",
    "inertias = []\n",
    "\n",
    "for i in range(1,11):\n",
    "    kmeans = KMeans(n_clusters=i)\n",
    "    kmeans.fit(data)\n",
    "    inertias.append(kmeans.inertia_)\n",
    "\n",
    "plt.plot(range(1,11), inertias, marker='o')\n",
    "plt.title('Elbow method')\n",
    "plt.xlabel('Number of clusters')\n",
    "plt.ylabel('Inertia')\n",
    "plt.show()"
   ]
  },
  {
   "cell_type": "code",
   "execution_count": 79,
   "id": "440bbf86-2487-426d-8045-7fe505529455",
   "metadata": {},
   "outputs": [],
   "source": [
    "num_clusters = 3"
   ]
  },
  {
   "cell_type": "code",
   "execution_count": 80,
   "id": "972daca5-918e-4f04-8af4-acc62071e7cc",
   "metadata": {},
   "outputs": [
    {
     "data": {
      "text/html": [
       "<style>#sk-container-id-4 {\n",
       "  /* Definition of color scheme common for light and dark mode */\n",
       "  --sklearn-color-text: black;\n",
       "  --sklearn-color-line: gray;\n",
       "  /* Definition of color scheme for unfitted estimators */\n",
       "  --sklearn-color-unfitted-level-0: #fff5e6;\n",
       "  --sklearn-color-unfitted-level-1: #f6e4d2;\n",
       "  --sklearn-color-unfitted-level-2: #ffe0b3;\n",
       "  --sklearn-color-unfitted-level-3: chocolate;\n",
       "  /* Definition of color scheme for fitted estimators */\n",
       "  --sklearn-color-fitted-level-0: #f0f8ff;\n",
       "  --sklearn-color-fitted-level-1: #d4ebff;\n",
       "  --sklearn-color-fitted-level-2: #b3dbfd;\n",
       "  --sklearn-color-fitted-level-3: cornflowerblue;\n",
       "\n",
       "  /* Specific color for light theme */\n",
       "  --sklearn-color-text-on-default-background: var(--sg-text-color, var(--theme-code-foreground, var(--jp-content-font-color1, black)));\n",
       "  --sklearn-color-background: var(--sg-background-color, var(--theme-background, var(--jp-layout-color0, white)));\n",
       "  --sklearn-color-border-box: var(--sg-text-color, var(--theme-code-foreground, var(--jp-content-font-color1, black)));\n",
       "  --sklearn-color-icon: #696969;\n",
       "\n",
       "  @media (prefers-color-scheme: dark) {\n",
       "    /* Redefinition of color scheme for dark theme */\n",
       "    --sklearn-color-text-on-default-background: var(--sg-text-color, var(--theme-code-foreground, var(--jp-content-font-color1, white)));\n",
       "    --sklearn-color-background: var(--sg-background-color, var(--theme-background, var(--jp-layout-color0, #111)));\n",
       "    --sklearn-color-border-box: var(--sg-text-color, var(--theme-code-foreground, var(--jp-content-font-color1, white)));\n",
       "    --sklearn-color-icon: #878787;\n",
       "  }\n",
       "}\n",
       "\n",
       "#sk-container-id-4 {\n",
       "  color: var(--sklearn-color-text);\n",
       "}\n",
       "\n",
       "#sk-container-id-4 pre {\n",
       "  padding: 0;\n",
       "}\n",
       "\n",
       "#sk-container-id-4 input.sk-hidden--visually {\n",
       "  border: 0;\n",
       "  clip: rect(1px 1px 1px 1px);\n",
       "  clip: rect(1px, 1px, 1px, 1px);\n",
       "  height: 1px;\n",
       "  margin: -1px;\n",
       "  overflow: hidden;\n",
       "  padding: 0;\n",
       "  position: absolute;\n",
       "  width: 1px;\n",
       "}\n",
       "\n",
       "#sk-container-id-4 div.sk-dashed-wrapped {\n",
       "  border: 1px dashed var(--sklearn-color-line);\n",
       "  margin: 0 0.4em 0.5em 0.4em;\n",
       "  box-sizing: border-box;\n",
       "  padding-bottom: 0.4em;\n",
       "  background-color: var(--sklearn-color-background);\n",
       "}\n",
       "\n",
       "#sk-container-id-4 div.sk-container {\n",
       "  /* jupyter's `normalize.less` sets `[hidden] { display: none; }`\n",
       "     but bootstrap.min.css set `[hidden] { display: none !important; }`\n",
       "     so we also need the `!important` here to be able to override the\n",
       "     default hidden behavior on the sphinx rendered scikit-learn.org.\n",
       "     See: https://github.com/scikit-learn/scikit-learn/issues/21755 */\n",
       "  display: inline-block !important;\n",
       "  position: relative;\n",
       "}\n",
       "\n",
       "#sk-container-id-4 div.sk-text-repr-fallback {\n",
       "  display: none;\n",
       "}\n",
       "\n",
       "div.sk-parallel-item,\n",
       "div.sk-serial,\n",
       "div.sk-item {\n",
       "  /* draw centered vertical line to link estimators */\n",
       "  background-image: linear-gradient(var(--sklearn-color-text-on-default-background), var(--sklearn-color-text-on-default-background));\n",
       "  background-size: 2px 100%;\n",
       "  background-repeat: no-repeat;\n",
       "  background-position: center center;\n",
       "}\n",
       "\n",
       "/* Parallel-specific style estimator block */\n",
       "\n",
       "#sk-container-id-4 div.sk-parallel-item::after {\n",
       "  content: \"\";\n",
       "  width: 100%;\n",
       "  border-bottom: 2px solid var(--sklearn-color-text-on-default-background);\n",
       "  flex-grow: 1;\n",
       "}\n",
       "\n",
       "#sk-container-id-4 div.sk-parallel {\n",
       "  display: flex;\n",
       "  align-items: stretch;\n",
       "  justify-content: center;\n",
       "  background-color: var(--sklearn-color-background);\n",
       "  position: relative;\n",
       "}\n",
       "\n",
       "#sk-container-id-4 div.sk-parallel-item {\n",
       "  display: flex;\n",
       "  flex-direction: column;\n",
       "}\n",
       "\n",
       "#sk-container-id-4 div.sk-parallel-item:first-child::after {\n",
       "  align-self: flex-end;\n",
       "  width: 50%;\n",
       "}\n",
       "\n",
       "#sk-container-id-4 div.sk-parallel-item:last-child::after {\n",
       "  align-self: flex-start;\n",
       "  width: 50%;\n",
       "}\n",
       "\n",
       "#sk-container-id-4 div.sk-parallel-item:only-child::after {\n",
       "  width: 0;\n",
       "}\n",
       "\n",
       "/* Serial-specific style estimator block */\n",
       "\n",
       "#sk-container-id-4 div.sk-serial {\n",
       "  display: flex;\n",
       "  flex-direction: column;\n",
       "  align-items: center;\n",
       "  background-color: var(--sklearn-color-background);\n",
       "  padding-right: 1em;\n",
       "  padding-left: 1em;\n",
       "}\n",
       "\n",
       "\n",
       "/* Toggleable style: style used for estimator/Pipeline/ColumnTransformer box that is\n",
       "clickable and can be expanded/collapsed.\n",
       "- Pipeline and ColumnTransformer use this feature and define the default style\n",
       "- Estimators will overwrite some part of the style using the `sk-estimator` class\n",
       "*/\n",
       "\n",
       "/* Pipeline and ColumnTransformer style (default) */\n",
       "\n",
       "#sk-container-id-4 div.sk-toggleable {\n",
       "  /* Default theme specific background. It is overwritten whether we have a\n",
       "  specific estimator or a Pipeline/ColumnTransformer */\n",
       "  background-color: var(--sklearn-color-background);\n",
       "}\n",
       "\n",
       "/* Toggleable label */\n",
       "#sk-container-id-4 label.sk-toggleable__label {\n",
       "  cursor: pointer;\n",
       "  display: block;\n",
       "  width: 100%;\n",
       "  margin-bottom: 0;\n",
       "  padding: 0.5em;\n",
       "  box-sizing: border-box;\n",
       "  text-align: center;\n",
       "}\n",
       "\n",
       "#sk-container-id-4 label.sk-toggleable__label-arrow:before {\n",
       "  /* Arrow on the left of the label */\n",
       "  content: \"▸\";\n",
       "  float: left;\n",
       "  margin-right: 0.25em;\n",
       "  color: var(--sklearn-color-icon);\n",
       "}\n",
       "\n",
       "#sk-container-id-4 label.sk-toggleable__label-arrow:hover:before {\n",
       "  color: var(--sklearn-color-text);\n",
       "}\n",
       "\n",
       "/* Toggleable content - dropdown */\n",
       "\n",
       "#sk-container-id-4 div.sk-toggleable__content {\n",
       "  max-height: 0;\n",
       "  max-width: 0;\n",
       "  overflow: hidden;\n",
       "  text-align: left;\n",
       "  /* unfitted */\n",
       "  background-color: var(--sklearn-color-unfitted-level-0);\n",
       "}\n",
       "\n",
       "#sk-container-id-4 div.sk-toggleable__content.fitted {\n",
       "  /* fitted */\n",
       "  background-color: var(--sklearn-color-fitted-level-0);\n",
       "}\n",
       "\n",
       "#sk-container-id-4 div.sk-toggleable__content pre {\n",
       "  margin: 0.2em;\n",
       "  border-radius: 0.25em;\n",
       "  color: var(--sklearn-color-text);\n",
       "  /* unfitted */\n",
       "  background-color: var(--sklearn-color-unfitted-level-0);\n",
       "}\n",
       "\n",
       "#sk-container-id-4 div.sk-toggleable__content.fitted pre {\n",
       "  /* unfitted */\n",
       "  background-color: var(--sklearn-color-fitted-level-0);\n",
       "}\n",
       "\n",
       "#sk-container-id-4 input.sk-toggleable__control:checked~div.sk-toggleable__content {\n",
       "  /* Expand drop-down */\n",
       "  max-height: 200px;\n",
       "  max-width: 100%;\n",
       "  overflow: auto;\n",
       "}\n",
       "\n",
       "#sk-container-id-4 input.sk-toggleable__control:checked~label.sk-toggleable__label-arrow:before {\n",
       "  content: \"▾\";\n",
       "}\n",
       "\n",
       "/* Pipeline/ColumnTransformer-specific style */\n",
       "\n",
       "#sk-container-id-4 div.sk-label input.sk-toggleable__control:checked~label.sk-toggleable__label {\n",
       "  color: var(--sklearn-color-text);\n",
       "  background-color: var(--sklearn-color-unfitted-level-2);\n",
       "}\n",
       "\n",
       "#sk-container-id-4 div.sk-label.fitted input.sk-toggleable__control:checked~label.sk-toggleable__label {\n",
       "  background-color: var(--sklearn-color-fitted-level-2);\n",
       "}\n",
       "\n",
       "/* Estimator-specific style */\n",
       "\n",
       "/* Colorize estimator box */\n",
       "#sk-container-id-4 div.sk-estimator input.sk-toggleable__control:checked~label.sk-toggleable__label {\n",
       "  /* unfitted */\n",
       "  background-color: var(--sklearn-color-unfitted-level-2);\n",
       "}\n",
       "\n",
       "#sk-container-id-4 div.sk-estimator.fitted input.sk-toggleable__control:checked~label.sk-toggleable__label {\n",
       "  /* fitted */\n",
       "  background-color: var(--sklearn-color-fitted-level-2);\n",
       "}\n",
       "\n",
       "#sk-container-id-4 div.sk-label label.sk-toggleable__label,\n",
       "#sk-container-id-4 div.sk-label label {\n",
       "  /* The background is the default theme color */\n",
       "  color: var(--sklearn-color-text-on-default-background);\n",
       "}\n",
       "\n",
       "/* On hover, darken the color of the background */\n",
       "#sk-container-id-4 div.sk-label:hover label.sk-toggleable__label {\n",
       "  color: var(--sklearn-color-text);\n",
       "  background-color: var(--sklearn-color-unfitted-level-2);\n",
       "}\n",
       "\n",
       "/* Label box, darken color on hover, fitted */\n",
       "#sk-container-id-4 div.sk-label.fitted:hover label.sk-toggleable__label.fitted {\n",
       "  color: var(--sklearn-color-text);\n",
       "  background-color: var(--sklearn-color-fitted-level-2);\n",
       "}\n",
       "\n",
       "/* Estimator label */\n",
       "\n",
       "#sk-container-id-4 div.sk-label label {\n",
       "  font-family: monospace;\n",
       "  font-weight: bold;\n",
       "  display: inline-block;\n",
       "  line-height: 1.2em;\n",
       "}\n",
       "\n",
       "#sk-container-id-4 div.sk-label-container {\n",
       "  text-align: center;\n",
       "}\n",
       "\n",
       "/* Estimator-specific */\n",
       "#sk-container-id-4 div.sk-estimator {\n",
       "  font-family: monospace;\n",
       "  border: 1px dotted var(--sklearn-color-border-box);\n",
       "  border-radius: 0.25em;\n",
       "  box-sizing: border-box;\n",
       "  margin-bottom: 0.5em;\n",
       "  /* unfitted */\n",
       "  background-color: var(--sklearn-color-unfitted-level-0);\n",
       "}\n",
       "\n",
       "#sk-container-id-4 div.sk-estimator.fitted {\n",
       "  /* fitted */\n",
       "  background-color: var(--sklearn-color-fitted-level-0);\n",
       "}\n",
       "\n",
       "/* on hover */\n",
       "#sk-container-id-4 div.sk-estimator:hover {\n",
       "  /* unfitted */\n",
       "  background-color: var(--sklearn-color-unfitted-level-2);\n",
       "}\n",
       "\n",
       "#sk-container-id-4 div.sk-estimator.fitted:hover {\n",
       "  /* fitted */\n",
       "  background-color: var(--sklearn-color-fitted-level-2);\n",
       "}\n",
       "\n",
       "/* Specification for estimator info (e.g. \"i\" and \"?\") */\n",
       "\n",
       "/* Common style for \"i\" and \"?\" */\n",
       "\n",
       ".sk-estimator-doc-link,\n",
       "a:link.sk-estimator-doc-link,\n",
       "a:visited.sk-estimator-doc-link {\n",
       "  float: right;\n",
       "  font-size: smaller;\n",
       "  line-height: 1em;\n",
       "  font-family: monospace;\n",
       "  background-color: var(--sklearn-color-background);\n",
       "  border-radius: 1em;\n",
       "  height: 1em;\n",
       "  width: 1em;\n",
       "  text-decoration: none !important;\n",
       "  margin-left: 1ex;\n",
       "  /* unfitted */\n",
       "  border: var(--sklearn-color-unfitted-level-1) 1pt solid;\n",
       "  color: var(--sklearn-color-unfitted-level-1);\n",
       "}\n",
       "\n",
       ".sk-estimator-doc-link.fitted,\n",
       "a:link.sk-estimator-doc-link.fitted,\n",
       "a:visited.sk-estimator-doc-link.fitted {\n",
       "  /* fitted */\n",
       "  border: var(--sklearn-color-fitted-level-1) 1pt solid;\n",
       "  color: var(--sklearn-color-fitted-level-1);\n",
       "}\n",
       "\n",
       "/* On hover */\n",
       "div.sk-estimator:hover .sk-estimator-doc-link:hover,\n",
       ".sk-estimator-doc-link:hover,\n",
       "div.sk-label-container:hover .sk-estimator-doc-link:hover,\n",
       ".sk-estimator-doc-link:hover {\n",
       "  /* unfitted */\n",
       "  background-color: var(--sklearn-color-unfitted-level-3);\n",
       "  color: var(--sklearn-color-background);\n",
       "  text-decoration: none;\n",
       "}\n",
       "\n",
       "div.sk-estimator.fitted:hover .sk-estimator-doc-link.fitted:hover,\n",
       ".sk-estimator-doc-link.fitted:hover,\n",
       "div.sk-label-container:hover .sk-estimator-doc-link.fitted:hover,\n",
       ".sk-estimator-doc-link.fitted:hover {\n",
       "  /* fitted */\n",
       "  background-color: var(--sklearn-color-fitted-level-3);\n",
       "  color: var(--sklearn-color-background);\n",
       "  text-decoration: none;\n",
       "}\n",
       "\n",
       "/* Span, style for the box shown on hovering the info icon */\n",
       ".sk-estimator-doc-link span {\n",
       "  display: none;\n",
       "  z-index: 9999;\n",
       "  position: relative;\n",
       "  font-weight: normal;\n",
       "  right: .2ex;\n",
       "  padding: .5ex;\n",
       "  margin: .5ex;\n",
       "  width: min-content;\n",
       "  min-width: 20ex;\n",
       "  max-width: 50ex;\n",
       "  color: var(--sklearn-color-text);\n",
       "  box-shadow: 2pt 2pt 4pt #999;\n",
       "  /* unfitted */\n",
       "  background: var(--sklearn-color-unfitted-level-0);\n",
       "  border: .5pt solid var(--sklearn-color-unfitted-level-3);\n",
       "}\n",
       "\n",
       ".sk-estimator-doc-link.fitted span {\n",
       "  /* fitted */\n",
       "  background: var(--sklearn-color-fitted-level-0);\n",
       "  border: var(--sklearn-color-fitted-level-3);\n",
       "}\n",
       "\n",
       ".sk-estimator-doc-link:hover span {\n",
       "  display: block;\n",
       "}\n",
       "\n",
       "/* \"?\"-specific style due to the `<a>` HTML tag */\n",
       "\n",
       "#sk-container-id-4 a.estimator_doc_link {\n",
       "  float: right;\n",
       "  font-size: 1rem;\n",
       "  line-height: 1em;\n",
       "  font-family: monospace;\n",
       "  background-color: var(--sklearn-color-background);\n",
       "  border-radius: 1rem;\n",
       "  height: 1rem;\n",
       "  width: 1rem;\n",
       "  text-decoration: none;\n",
       "  /* unfitted */\n",
       "  color: var(--sklearn-color-unfitted-level-1);\n",
       "  border: var(--sklearn-color-unfitted-level-1) 1pt solid;\n",
       "}\n",
       "\n",
       "#sk-container-id-4 a.estimator_doc_link.fitted {\n",
       "  /* fitted */\n",
       "  border: var(--sklearn-color-fitted-level-1) 1pt solid;\n",
       "  color: var(--sklearn-color-fitted-level-1);\n",
       "}\n",
       "\n",
       "/* On hover */\n",
       "#sk-container-id-4 a.estimator_doc_link:hover {\n",
       "  /* unfitted */\n",
       "  background-color: var(--sklearn-color-unfitted-level-3);\n",
       "  color: var(--sklearn-color-background);\n",
       "  text-decoration: none;\n",
       "}\n",
       "\n",
       "#sk-container-id-4 a.estimator_doc_link.fitted:hover {\n",
       "  /* fitted */\n",
       "  background-color: var(--sklearn-color-fitted-level-3);\n",
       "}\n",
       "</style><div id=\"sk-container-id-4\" class=\"sk-top-container\"><div class=\"sk-text-repr-fallback\"><pre>KMeans(n_clusters=3)</pre><b>In a Jupyter environment, please rerun this cell to show the HTML representation or trust the notebook. <br />On GitHub, the HTML representation is unable to render, please try loading this page with nbviewer.org.</b></div><div class=\"sk-container\" hidden><div class=\"sk-item\"><div class=\"sk-estimator fitted sk-toggleable\"><input class=\"sk-toggleable__control sk-hidden--visually\" id=\"sk-estimator-id-4\" type=\"checkbox\" checked><label for=\"sk-estimator-id-4\" class=\"sk-toggleable__label fitted sk-toggleable__label-arrow fitted\">&nbsp;&nbsp;KMeans<a class=\"sk-estimator-doc-link fitted\" rel=\"noreferrer\" target=\"_blank\" href=\"https://scikit-learn.org/1.5/modules/generated/sklearn.cluster.KMeans.html\">?<span>Documentation for KMeans</span></a><span class=\"sk-estimator-doc-link fitted\">i<span>Fitted</span></span></label><div class=\"sk-toggleable__content fitted\"><pre>KMeans(n_clusters=3)</pre></div> </div></div></div></div>"
      ],
      "text/plain": [
       "KMeans(n_clusters=3)"
      ]
     },
     "execution_count": 80,
     "metadata": {},
     "output_type": "execute_result"
    }
   ],
   "source": [
    "kmeans = KMeans(n_clusters=num_clusters)\n",
    "kmeans.fit(data)"
   ]
  },
  {
   "cell_type": "code",
   "execution_count": 16,
   "id": "a1804274-25ce-4a0d-8d1d-9a8ee8fc5d8e",
   "metadata": {},
   "outputs": [],
   "source": [
    "#find centroids. compute bigram closest to centroid"
   ]
  },
  {
   "cell_type": "code",
   "execution_count": 81,
   "id": "e44a20ee-305f-4fb9-887e-8a01f9616b90",
   "metadata": {},
   "outputs": [
    {
     "data": {
      "text/plain": [
       "array([[ 0.01190199, -0.12248473,  0.43582872,  0.25006284, -0.24285619,\n",
       "        -0.2027092 ,  0.29370003,  0.51867168, -0.52353539,  0.17704071,\n",
       "         0.40229178, -0.20181073,  0.42585084,  0.05580942,  0.41993606,\n",
       "         0.358582  ,  0.78581129, -0.20488119, -0.44728446, -0.65180724],\n",
       "       [ 0.0112914 , -0.07896771,  0.29676424,  0.16086322, -0.16461737,\n",
       "        -0.13183839,  0.1953516 ,  0.34909027, -0.35107156,  0.11879044,\n",
       "         0.26708631, -0.13266125,  0.29098554,  0.03661809,  0.28424857,\n",
       "         0.25300887,  0.53851336, -0.14522125, -0.30988377, -0.43464792],\n",
       "       [-0.00177255, -0.03810487,  0.15985724,  0.08863173, -0.08779525,\n",
       "        -0.06035203,  0.10502748,  0.17872682, -0.17768213,  0.06599665,\n",
       "         0.14512952, -0.07216945,  0.15795976,  0.01078512,  0.14538747,\n",
       "         0.14388322,  0.28991326, -0.07540852, -0.16192876, -0.23267001]])"
      ]
     },
     "execution_count": 81,
     "metadata": {},
     "output_type": "execute_result"
    }
   ],
   "source": [
    "centroids  = kmeans.cluster_centers_; centroids"
   ]
  },
  {
   "cell_type": "code",
   "execution_count": 82,
   "id": "875dc8cc-79f6-4e7e-ab48-28392e92d869",
   "metadata": {},
   "outputs": [],
   "source": [
    "#build vocabulary\n",
    "vocab = []\n",
    "for doc in sample_data:\n",
    "    vocab += word_tokenize(doc.lower())\n",
    "vocab = list(set(vocab))"
   ]
  },
  {
   "cell_type": "code",
   "execution_count": 83,
   "id": "567ddc06-78fd-40dc-aa4d-c21a0d3aae0d",
   "metadata": {},
   "outputs": [],
   "source": [
    "#a selection of poliical words \n",
    "political_keywords = [\n",
    "    \"democracy\", \"republic\", \"monarchy\", \"constitution\", \"senate\", \"parliament\",\n",
    "    \"legislature\", \"bill\", \"law\", \"amendment\", \"veto\", \"executive\", \"judiciary\",\n",
    "    \"congress\", \"cabinet\", \"prime\", \"president\", \"governor\", \"mayor\", \"election\",\n",
    "    \"ballot\", \"referendum\", \"campaign\", \"lobby\", \"politician\", \"party\", \"coalition\",\n",
    "    \"majority\", \"minority\", \"opposition\", \"incumbent\", \"candidate\", \"policy\", \"platform\",\n",
    "    \"ideology\", \"socialism\", \"capitalism\", \"communism\", \"fascism\", \"nationalism\",\n",
    "    \"populism\", \"liberalism\", \"conservatism\", \"progressivism\", \"federalism\", \"state\",\n",
    "    \"municipality\", \"autonomy\", \"centralization\", \"devolution\", \"impeachment\", \"coup\",\n",
    "    \"revolution\", \"sanction\", \"diplomacy\", \"treaty\", \"alliance\", \"sovereignty\", \"bureaucracy\",\n",
    "    \"civil\", \"liberty\", \"freedom\", \"justice\", \"equality\", \"taxation\", \"welfare\", \"healthcare\",\n",
    "    \"education\", \"defense\", \"security\", \"immigration\", \"trade\", \"tariff\", \"budget\", \"deficit\",\n",
    "    \"debt\", \"regulation\", \"deregulation\", \"policy\", \"interest\", \"NGO\", \"PAC\", \"grassroots\",\n",
    "    \"superpower\", \"diplomacy\", \"NATO\", \"UN\", \"electoral\", \"gerrymandering\", \"filibuster\",\n",
    "    \"constituent\", \"suffrage\", \"pluralism\", \"bipartisanship\", \"caucus\", \"midterms\",\n",
    "    \"progressive\", \"liberal\", \"conservative\", \"leftist\", \"right-wing\", \"vote\", \"redistricting\"\n",
    "]"
   ]
  },
  {
   "cell_type": "code",
   "execution_count": 84,
   "id": "3a907cb2-b7f3-4355-aca1-5acc983b819f",
   "metadata": {},
   "outputs": [],
   "source": [
    "#create unique bigrams from list of political words\n",
    "bigrams = []\n",
    "for i in range(len(political_keywords)):\n",
    "    for j in range(i+1,len(political_keywords)):\n",
    "        bigrams.append(political_keywords[i] + \" \" + political_keywords[j])"
   ]
  },
  {
   "cell_type": "code",
   "execution_count": 85,
   "id": "28840ecb-b46e-49a7-b38c-f497dc195a3f",
   "metadata": {},
   "outputs": [],
   "source": [
    "bigram_vecs = {bigram:model.infer_vector(word_tokenize(bigram.lower())) for bigram in bigrams}"
   ]
  },
  {
   "cell_type": "code",
   "execution_count": 86,
   "id": "39a169df-dbfd-4d42-af7a-2b597229a348",
   "metadata": {},
   "outputs": [
    {
     "data": {
      "text/plain": [
       "array([-0.03972526,  0.0266095 , -0.02555733, -0.00016615,  0.02217252,\n",
       "       -0.01769617,  0.01327935,  0.01167592, -0.04666952, -0.0140603 ,\n",
       "        0.00773233, -0.08259363,  0.04072887, -0.06797408, -0.0228213 ,\n",
       "        0.00181977,  0.05350007,  0.02688594, -0.04726947,  0.02413638],\n",
       "      dtype=float32)"
      ]
     },
     "execution_count": 86,
     "metadata": {},
     "output_type": "execute_result"
    }
   ],
   "source": [
    "list(bigram_vecs.values())[0]"
   ]
  },
  {
   "cell_type": "code",
   "execution_count": 87,
   "id": "c3ed2e69-90ab-4c94-8f26-fa1cfdd8a665",
   "metadata": {},
   "outputs": [],
   "source": [
    "#define cosine similarity\n",
    "from numpy.linalg import norm\n",
    "def similarity(v,w):\n",
    "    return np.dot(v,w)/(norm(v)*norm(w))"
   ]
  },
  {
   "cell_type": "code",
   "execution_count": 88,
   "id": "608f752a-0e0b-4e1f-8a95-b995c054a824",
   "metadata": {},
   "outputs": [],
   "source": [
    "#find closest bigram to centroid\n",
    "nearest_bigram_to_centroid = []\n",
    "for centroid in centroids:\n",
    "    min_dist = 2\n",
    "    nearest_bigram = \"\"\n",
    "    for bigram, embedding in bigram_vecs.items():\n",
    "        dist = similarity(centroid, embedding)\n",
    "        if dist < min_dist:\n",
    "            min_dist = dist\n",
    "            nearest_bigram = bigram\n",
    "    nearest_bigram_to_centroid.append((nearest_bigram,min_dist))"
   ]
  },
  {
   "cell_type": "code",
   "execution_count": 89,
   "id": "3fc48441-6716-4423-b1b0-5ec0d5662670",
   "metadata": {},
   "outputs": [
    {
     "data": {
      "text/plain": [
       "[('conservatism debt', -0.7831622248014147),\n",
       " ('conservatism debt', -0.7811045478359165),\n",
       " ('conservatism debt', -0.7822733145445798)]"
      ]
     },
     "execution_count": 89,
     "metadata": {},
     "output_type": "execute_result"
    }
   ],
   "source": [
    "nearest_bigram_to_centroid"
   ]
  },
  {
   "cell_type": "code",
   "execution_count": 1,
   "id": "30d604b6-221d-4fce-ba08-d05f5cde9138",
   "metadata": {},
   "outputs": [],
   "source": [
    "#method 2) use TF-IDF, or do a frequency count of top two most common words in cluster\n",
    "#method 3) use word embeddings to compute distance from word to list of words, take closest words"
   ]
  },
  {
   "cell_type": "code",
   "execution_count": 27,
   "id": "7c704a12-a823-4c46-9661-dd4ca86e4fce",
   "metadata": {},
   "outputs": [],
   "source": [
    "labeled_data = zip(sample_data,kmeans.labels_)"
   ]
  },
  {
   "cell_type": "code",
   "execution_count": 28,
   "id": "d9324a3c-b0c5-48b9-a073-260b2a943942",
   "metadata": {},
   "outputs": [],
   "source": [
    "#build vocabulary\n",
    "cluster_vocab = [[] for centroid in centroids]\n",
    "for doc, label in list(labeled_data):\n",
    "    cluster_vocab[label] += word_tokenize(doc.lower())\n",
    "cluster_vocab = [list(set(vocab)) for vocab in cluster_vocab]"
   ]
  },
  {
   "cell_type": "code",
   "execution_count": 38,
   "id": "70e63ab6-c14b-4bf6-9a82-c691d0a5cd3f",
   "metadata": {},
   "outputs": [
    {
     "data": {
      "text/plain": [
       "2471"
      ]
     },
     "execution_count": 38,
     "metadata": {},
     "output_type": "execute_result"
    }
   ],
   "source": [
    "len(cluster_vocab[2])"
   ]
  },
  {
   "cell_type": "code",
   "execution_count": 30,
   "id": "548e2117-bc78-43d4-a65e-9310f4b443d1",
   "metadata": {},
   "outputs": [],
   "source": [
    "from collections import Counter\n",
    "cluster_counts = Counter(cluster_vocab[0])"
   ]
  },
  {
   "cell_type": "code",
   "execution_count": 8,
   "id": "6e86d69a-3c92-4581-8403-77a0d3ee1afc",
   "metadata": {},
   "outputs": [],
   "source": [
    "import spacy\n",
    "nlp=spacy.load(\"en_core_web_lg\")"
   ]
  },
  {
   "cell_type": "code",
   "execution_count": 17,
   "id": "da2f95f1-9a75-4bb9-97a2-9a2263ca0883",
   "metadata": {},
   "outputs": [
    {
     "data": {
      "text/plain": [
       "'[2.2407000064849854, 1.0389000177383423, 1.3092000484466553, -1.7335000038146973, -0.7846599817276001, -0.2926900088787079, -1.805899977684021, -2.5223000049591064, 0.7802500128746033, 2.4899001121520996, -0.09184899926185608, 0.2875500023365021, -1.5056999921798706, 2.633699893951416, 2.5251998901367188, -0.22431999444961548, -2.2067999839782715, -0.5789499878883362, -0.5655099749565125, -1.9337999820709229, 1.4973000288009644, 0.8588899970054626, 3.3559000492095947, -3.752700090408325, 0.22585000097751617, -0.16968999803066254, 0.5138900279998779, 0.4607299864292145, -0.28248000144958496, -2.60479998588562, -3.589600086212158, -1.097100019454956, -1.5516999959945679, -0.12184999883174896, 2.863300085067749, -1.252500057220459, -1.6923999786376953, -2.2916998863220215, 0.9779300093650818, 0.469539999961853, -3.5950000286102295, -0.17357000708580017, 0.9804999828338623, -1.8043999671936035, -0.7218300104141235, -0.4070900082588196, -3.0943000316619873, 0.13095000386238098, -2.9014999866485596, 1.4767999649047852, -1.0587999820709229, -2.812299966812134, 1.2935999631881714, -0.007597700227051973, 2.997499942779541, -2.4437999725341797, 0.12347999960184097, 1.832200050354004, 0.3586899936199188, -0.018334999680519104, 1.9534000158309937, 1.4416999816894531, 0.9989500045776367, -2.8208999633789062, -0.7584599852561951, -1.8437999486923218, -3.2657999992370605, -0.46573999524116516, 0.903219997882843, 0.7986800074577332, -1.6133999824523926, -0.3308199942111969, 1.154099941253662, -4.733399868011475, 1.496399998664856, -2.401400089263916, -1.3460999727249146, -0.9555100202560425, 0.2967100143432617, -1.450600028038025, -0.8712800145149231, -3.0713999271392822, 1.3596999645233154, -0.03813299909234047, 1.6413999795913696, -0.9087899923324585, 2.740600109100342, 2.295099973678589, -3.1422998905181885, -3.752500057220459, 0.7403299808502197, 1.4921000003814697, 0.47422000765800476, -1.8336999416351318, -1.8167999982833862, 0.6690099835395813, -1.361199975013733, -2.272900104522705, -1.7655999660491943, -0.7396799921989441, -0.12859000265598297, 0.877590000629425, 1.4448000192642212, -2.7825000286102295, -0.7959700226783752, 0.0688449963927269, 2.463399887084961, 0.6354900002479553, -2.4446001052856445, 2.7565999031066895, -2.9590001106262207, -2.955399990081787, 2.4260001182556152, -0.5067800283432007, -0.1800300031900406, -0.15839999914169312, 1.538100004196167, -3.0552000999450684, -0.1507900059223175, -1.2797000408172607, -2.3726999759674072, -0.8543400168418884, -0.8065900206565857, 1.4002000093460083, 0.3332099914550781, 0.0140990000218153, 0.05018699914216995, 0.5400400161743164, -0.25710999965667725, -0.37119001150131226, 0.5162799954414368, 0.4617699980735779, -0.9697399735450745, -1.9036999940872192, 1.3770999908447266, -4.290200233459473, 0.44036000967025757, -3.712899923324585, 0.3691299855709076, 0.6073600053787231, -1.2517000436782837, 0.5479900240898132, 1.788100004196167, -0.013291999697685242, -1.2323999404907227, -0.5689399838447571, 0.40922999382019043, -1.467900037765503, -0.05014700070023537, 0.047828998416662216, 0.39353999495506287, -0.08471699804067612, -0.2788600027561188, -1.6172000169754028, -3.1956000328063965, 0.82014000415802, 0.10563000291585922, 0.3684900104999542, -0.5951499938964844, -1.3946000337600708, 1.8661999702453613, -1.2533999681472778, -2.9179999828338623, 0.556850016117096, 1.5468000173568726, 0.06246799975633621, -0.143669992685318, 1.402400016784668, -2.1278998851776123, -1.0164999961853027, 2.3543999195098877, -0.0574290007352829, 2.9195001125335693, 0.3725000023841858, 2.0608999729156494, -0.7102599740028381, -0.39625999331474304, 2.9377999305725098, 0.6467999815940857, 0.9549700021743774, -0.7818300127983093, 2.341599941253662, 0.20079000294208527, 0.595009982585907, 0.7566499710083008, 4.095699787139893, 3.344099998474121, -3.79830002784729, 0.5221999883651733, 1.4794000387191772, -0.7805399894714355, 3.295300006866455, -3.579400062561035, 1.2549999952316284, 0.7070299983024597, 0.3525699973106384, -0.6732100248336792, 1.7639000415802002, 0.45983999967575073, 3.058799982070923, -1.6328999996185303, -0.17406000196933746, -0.14539000391960144, 0.5396299958229065, -2.181299924850464, 0.07333000004291534, 3.0116000175476074, -1.1944999694824219, -0.549780011177063, -1.729599952697754, 2.7607998847961426, -0.7810999751091003, 2.5769999027252197, -2.0204999446868896, 0.9521200060844421, -0.026341000571846962, 0.7121700048446655, -0.17926999926567078, -0.5047399997711182, -0.19869999587535858, -2.3127999305725098, -0.4759399890899658, 1.0176000595092773, -1.4797999858856201, 0.3556399941444397, 1.8736000061035156, 1.1265000104904175, -0.4213300049304962, -0.4931100010871887, 0.5099200010299683, -5.642899990081787, -1.0555000305175781, -2.2193000316619873, -2.026400089263916, -1.733299970626831, -2.7713000774383545, -0.8459299802780151, 0.9753299951553345, 0.3665199875831604, 0.5537099838256836, 0.24250000715255737, 0.7499600052833557, 1.5628000497817993, 1.0084999799728394, 2.5169999599456787, -1.2660000324249268, 0.9357200264930725, -0.7518100142478943, 2.4042000770568848, -0.29899999499320984, -1.388800024986267, 0.04566600173711777, -2.8199000358581543, -0.08016499876976013, -0.35760000348091125, -3.4619998931884766, -0.004399700090289116, 1.191499948501587, -2.0683999061584473, 1.4716999530792236, 0.5955899953842163, -4.030600070953369, -3.353600025177002, -1.759600043296814, 0.3213599920272827, -0.16446000337600708, -1.2610000371932983, -1.4749000072479248, 0.25707998871803284, 1.458400011062622, 1.0946999788284302, 0.37450000643730164, -0.6469500064849854, -0.2145099937915802, 0.71110999584198, -0.32444998621940613, 1.4884999990463257, -2.6305999755859375, -0.7805100083351135, 0.41903001070022583, -4.880799770355225, 1.5290000438690186, -0.9357200264930725, -2.850800037384033, -0.8537999987602234, 1.6754000186920166, 2.244499921798706, 0.17917999625205994, -0.3561500012874603, 1.7458000183105469, 0.24266000092029572, -0.5535200238227844, 3.4470999240875244, -2.3452999591827393, 1.7418999671936035, -3.141400098800659, -0.4250899851322174, 3.0227999687194824, -0.7259399890899658, 0.21592000126838684]'"
      ]
     },
     "execution_count": 17,
     "metadata": {},
     "output_type": "execute_result"
    }
   ],
   "source": [
    "str([float(a) for a in nlp(\"hello\").vector])"
   ]
  },
  {
   "cell_type": "code",
   "execution_count": 35,
   "id": "63809e4b-8f98-4157-9b81-380f4bd2a312",
   "metadata": {},
   "outputs": [
    {
     "data": {
      "text/plain": [
       "0.5797264417406982"
      ]
     },
     "execution_count": 35,
     "metadata": {},
     "output_type": "execute_result"
    }
   ],
   "source": [
    "nlp(\"hello\").similarity(nlp(\"hi\"))"
   ]
  },
  {
   "cell_type": "code",
   "execution_count": 44,
   "id": "23fb1746-cac2-4f87-9a36-8d1dbf545076",
   "metadata": {},
   "outputs": [],
   "source": [
    "#define function which measures distance to a set of words using word embeddings and cosine similarity\n",
    "def dist_to_wordset(keyword,wordset):\n",
    "    return min([nlp(keyword).similarity(nlp(word)) for word in wordset])"
   ]
  },
  {
   "cell_type": "code",
   "execution_count": 45,
   "id": "e5126ba3-bf9f-4d89-8d5c-eea41b2e0de4",
   "metadata": {},
   "outputs": [
    {
     "name": "stderr",
     "output_type": "stream",
     "text": [
      "/var/folders/4d/rp7dhwss6znf18sks0v304d80000gn/T/ipykernel_13597/4047510694.py:3: UserWarning: [W008] Evaluating Doc.similarity based on empty vectors.\n",
      "  return min([nlp(keyword).similarity(nlp(word)) for word in wordset])\n"
     ]
    },
    {
     "data": {
      "text/plain": [
       "-0.263570855730982"
      ]
     },
     "execution_count": 45,
     "metadata": {},
     "output_type": "execute_result"
    }
   ],
   "source": [
    "dist_to_wordset(political_words[0],cluster_vocab[0])"
   ]
  },
  {
   "cell_type": "code",
   "execution_count": 46,
   "id": "891c2003-c122-4a5d-bc02-efc5dd629e9d",
   "metadata": {},
   "outputs": [],
   "source": [
    "#compute the political keyword with the closest distance\n",
    "#this is essentially computing the Hausdorff distance between these two sets\n",
    "def closest_keyword(keywords,wordset):\n",
    "    max_dist = -2\n",
    "    max_keyword = \"\"\n",
    "    for keyword in keywords:\n",
    "        dist = dist_to_wordset(keyword,wordset)\n",
    "        if dist > max_dist:\n",
    "            max_dist = dist\n",
    "            max_keyword = keyword\n",
    "    return (max_keyword,max_dist)"
   ]
  },
  {
   "cell_type": "code",
   "execution_count": 52,
   "id": "c789e550-0c11-4081-84e5-8fc1f4d758af",
   "metadata": {},
   "outputs": [
    {
     "name": "stderr",
     "output_type": "stream",
     "text": [
      "/var/folders/4d/rp7dhwss6znf18sks0v304d80000gn/T/ipykernel_13597/4047510694.py:3: UserWarning: [W008] Evaluating Doc.similarity based on empty vectors.\n",
      "  return min([nlp(keyword).similarity(nlp(word)) for word in wordset])\n"
     ]
    },
    {
     "data": {
      "text/plain": [
       "('republic', -0.2577690642582492)"
      ]
     },
     "execution_count": 52,
     "metadata": {},
     "output_type": "execute_result"
    }
   ],
   "source": [
    "closest_keyword(political_keywords[:3],cluster_vocab[0])"
   ]
  }
 ],
 "metadata": {
  "kernelspec": {
   "display_name": "nlp",
   "language": "python",
   "name": "nlp"
  },
  "language_info": {
   "codemirror_mode": {
    "name": "ipython",
    "version": 3
   },
   "file_extension": ".py",
   "mimetype": "text/x-python",
   "name": "python",
   "nbconvert_exporter": "python",
   "pygments_lexer": "ipython3",
   "version": "3.10.0"
  }
 },
 "nbformat": 4,
 "nbformat_minor": 5
}
