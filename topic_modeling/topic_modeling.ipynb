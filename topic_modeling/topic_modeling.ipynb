{
 "cells": [
  {
   "cell_type": "code",
   "execution_count": 1,
   "id": "eb63d280-0437-42a3-b879-fc7c07cbd004",
   "metadata": {},
   "outputs": [],
   "source": [
    "import numpy as np # linear algebra\n",
    "import pandas as pd # data processing, CSV file I/O (e.g. pd.read_csv)\n",
    "from sklearn.model_selection import train_test_split # function for splitting data to train and test sets\n",
    "\n",
    "import nltk\n",
    "from nltk.corpus import stopwords\n",
    "from nltk.classify import SklearnClassifier\n",
    "\n",
    "from wordcloud import WordCloud, STOPWORDS\n",
    "import matplotlib.pyplot as plt\n",
    "\n",
    "data = pd.read_csv('sentiment.csv')\n",
    "# Keeping only the neccessary columns\n",
    "data = data[['text','sentiment']]"
   ]
  },
  {
   "cell_type": "code",
   "execution_count": 6,
   "id": "8cef68fb-1398-41da-8359-54f7fd2fcf93",
   "metadata": {},
   "outputs": [],
   "source": [
    "#perform doc2vec embeddings on comments with gensim\n",
    "from gensim.models.doc2vec import Doc2Vec, TaggedDocument\n",
    "from nltk.tokenize import word_tokenize"
   ]
  },
  {
   "cell_type": "code",
   "execution_count": 9,
   "id": "4e29126f-e385-48fa-98d7-7e1b58252248",
   "metadata": {},
   "outputs": [],
   "source": [
    "test_data = data['text'][:10]"
   ]
  },
  {
   "cell_type": "code",
   "execution_count": 10,
   "id": "7de91714-6dc2-450e-a7e1-b9f05ad244e0",
   "metadata": {},
   "outputs": [],
   "source": [
    "tagged_data = [TaggedDocument(words=word_tokenize(_d.lower()), tags=[str(i)]) for i, _d in enumerate(test_data)]"
   ]
  },
  {
   "cell_type": "code",
   "execution_count": 11,
   "id": "16471d2f-7b01-420a-81d1-770c5da2a1ea",
   "metadata": {},
   "outputs": [
    {
     "data": {
      "text/plain": [
       "[TaggedDocument(words=['rt', '@', 'nancyleegrahn', ':', 'how', 'did', 'everyone', 'feel', 'about', 'the', 'climate', 'change', 'question', 'last', 'night', '?', 'exactly', '.', '#', 'gopdebate'], tags=['0']),\n",
       " TaggedDocument(words=['rt', '@', 'scottwalker', ':', 'did', \"n't\", 'catch', 'the', 'full', '#', 'gopdebate', 'last', 'night', '.', 'here', 'are', 'some', 'of', 'scott', \"'s\", 'best', 'lines', 'in', '90', 'seconds', '.', '#', 'walker16', 'http', ':', '//t.co/zsff…'], tags=['1']),\n",
       " TaggedDocument(words=['rt', '@', 'tjmshow', ':', 'no', 'mention', 'of', 'tamir', 'rice', 'and', 'the', '#', 'gopdebate', 'was', 'held', 'in', 'cleveland', '?', 'wow', '.'], tags=['2']),\n",
       " TaggedDocument(words=['rt', '@', 'robgeorge', ':', 'that', 'carly', 'fiorina', 'is', 'trending', '--', 'hours', 'after', 'her', 'debate', '--', 'above', 'any', 'of', 'the', 'men', 'in', 'just-completed', '#', 'gopdebate', 'says', 'she', \"'s\", 'on', '…'], tags=['3']),\n",
       " TaggedDocument(words=['rt', '@', 'danscavino', ':', '#', 'gopdebate', 'w/', '@', 'realdonaldtrump', 'delivered', 'the', 'highest', 'ratings', 'in', 'the', 'history', 'of', 'presidential', 'debates', '.', '#', 'trump2016', 'http', ':', '//t.co…'], tags=['4']),\n",
       " TaggedDocument(words=['rt', '@', 'gregabbott_tx', ':', '@', 'tedcruz', ':', '``', 'on', 'my', 'first', 'day', 'i', 'will', 'rescind', 'every', 'illegal', 'executive', 'action', 'taken', 'by', 'barack', 'obama', '.', \"''\", '#', 'gopdebate', '@', 'foxnews'], tags=['5']),\n",
       " TaggedDocument(words=['rt', '@', 'warriorwoman91', ':', 'i', 'liked', 'her', 'and', 'was', 'happy', 'when', 'i', 'heard', 'she', 'was', 'going', 'to', 'be', 'the', 'moderator', '.', 'not', 'anymore', '.', '#', 'gopdebate', '@', 'megynkelly', 'https', ':', '//…'], tags=['6']),\n",
       " TaggedDocument(words=['going', 'on', '#', 'msnbc', 'live', 'with', '@', 'thomasaroberts', 'around', '2', 'pm', 'et', '.', '#', 'gopdebate'], tags=['7']),\n",
       " TaggedDocument(words=['deer', 'in', 'the', 'headlights', 'rt', '@', 'lizzwinstead', ':', 'ben', 'carson', ',', 'may', 'be', 'the', 'only', 'brain', 'surgeon', 'who', 'has', 'performed', 'a', 'lobotomy', 'on', 'himself', '.', '#', 'gopdebate'], tags=['8']),\n",
       " TaggedDocument(words=['rt', '@', 'nancyosborne180', ':', 'last', 'night', \"'s\", 'debate', 'proved', 'it', '!', '#', 'gopdebate', '#', 'batsask', '@', 'badassteachersa', '#', 'tbats', 'https', ':', '//t.co/g2ggjy1bjd'], tags=['9'])]"
      ]
     },
     "execution_count": 11,
     "metadata": {},
     "output_type": "execute_result"
    }
   ],
   "source": [
    "tagged_data"
   ]
  },
  {
   "cell_type": "code",
   "execution_count": 3,
   "id": "d74350fa-818c-415e-9e56-c323b31095a7",
   "metadata": {},
   "outputs": [],
   "source": [
    "#perform k-means clustering on embedded documents"
   ]
  },
  {
   "cell_type": "code",
   "execution_count": null,
   "id": "6cf55192-14ff-48c6-8824-0585b4c814c6",
   "metadata": {},
   "outputs": [],
   "source": []
  }
 ],
 "metadata": {
  "kernelspec": {
   "display_name": "nlp",
   "language": "python",
   "name": "nlp"
  },
  "language_info": {
   "codemirror_mode": {
    "name": "ipython",
    "version": 3
   },
   "file_extension": ".py",
   "mimetype": "text/x-python",
   "name": "python",
   "nbconvert_exporter": "python",
   "pygments_lexer": "ipython3",
   "version": "3.9.6"
  }
 },
 "nbformat": 4,
 "nbformat_minor": 5
}
