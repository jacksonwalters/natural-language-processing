{
 "cells": [
  {
   "cell_type": "code",
   "execution_count": 1,
   "id": "b567ed95-f162-46d3-a51d-c047443a7b33",
   "metadata": {},
   "outputs": [],
   "source": [
    "#https://medium.com/@mishra.thedeepak/doc2vec-simple-implementation-example-df2afbbfbad5"
   ]
  },
  {
   "cell_type": "code",
   "execution_count": 2,
   "id": "eb63d280-0437-42a3-b879-fc7c07cbd004",
   "metadata": {},
   "outputs": [],
   "source": [
    "import numpy as np # linear algebra\n",
    "import pandas as pd # data processing, CSV file I/O (e.g. pd.read_csv)\n",
    "from sklearn.model_selection import train_test_split # function for splitting data to train and test sets\n",
    "\n",
    "import nltk\n",
    "from nltk.corpus import stopwords\n",
    "from nltk.classify import SklearnClassifier\n",
    "\n",
    "import matplotlib.pyplot as plt\n",
    "\n",
    "data = pd.read_csv('sentiment.csv')\n",
    "# Keeping only the neccessary columns\n",
    "data = data['text']"
   ]
  },
  {
   "cell_type": "code",
   "execution_count": 3,
   "id": "c3b9bc0c-f1a5-40fb-9765-5c05b68b6627",
   "metadata": {},
   "outputs": [],
   "source": [
    "n_samples = 1000"
   ]
  },
  {
   "cell_type": "code",
   "execution_count": 4,
   "id": "1f40cc2e-68b7-4345-9ca4-3681613ceb27",
   "metadata": {},
   "outputs": [
    {
     "data": {
      "text/plain": [
       "13871"
      ]
     },
     "execution_count": 4,
     "metadata": {},
     "output_type": "execute_result"
    }
   ],
   "source": [
    "len(data)"
   ]
  },
  {
   "cell_type": "code",
   "execution_count": 5,
   "id": "8cef68fb-1398-41da-8359-54f7fd2fcf93",
   "metadata": {},
   "outputs": [],
   "source": [
    "#perform doc2vec embeddings on comments with gensim\n",
    "from gensim.models.doc2vec import Doc2Vec, TaggedDocument\n",
    "from nltk.tokenize import word_tokenize"
   ]
  },
  {
   "cell_type": "code",
   "execution_count": 6,
   "id": "4e29126f-e385-48fa-98d7-7e1b58252248",
   "metadata": {},
   "outputs": [],
   "source": [
    "sample_data = data[:n_samples]"
   ]
  },
  {
   "cell_type": "code",
   "execution_count": 7,
   "id": "7de91714-6dc2-450e-a7e1-b9f05ad244e0",
   "metadata": {},
   "outputs": [],
   "source": [
    "tagged_data = [TaggedDocument(words=word_tokenize(_d.lower()), tags=[str(i)]) for i, _d in enumerate(sample_data)]"
   ]
  },
  {
   "cell_type": "code",
   "execution_count": 8,
   "id": "16471d2f-7b01-420a-81d1-770c5da2a1ea",
   "metadata": {},
   "outputs": [
    {
     "name": "stdout",
     "output_type": "stream",
     "text": [
      "0 1 2 3 4 5 6 7 8 9 10 11 12 13 14 15 16 17 18 19 20 21 22 23 24 25 26 27 28 29 30 31 32 33 34 35 36 37 38 39 40 41 42 43 44 45 46 47 48 49 50 51 52 53 54 55 56 57 58 59 60 61 62 63 64 65 66 67 68 69 70 71 72 73 74 75 76 77 78 79 80 81 82 83 84 85 86 87 88 89 90 91 92 93 94 95 96 97 98 99 Model Saved\n"
     ]
    }
   ],
   "source": [
    "max_epochs = 100\n",
    "vec_size = 20\n",
    "alpha = 0.025\n",
    "\n",
    "model = Doc2Vec(vector_size=vec_size,\n",
    "                alpha=alpha, \n",
    "                min_alpha=0.00025,\n",
    "                min_count=1,\n",
    "                dm =1)\n",
    "  \n",
    "model.build_vocab(tagged_data)\n",
    "\n",
    "for epoch in range(max_epochs):\n",
    "    print('{0}'.format(epoch), end =\" \")\n",
    "    model.train(tagged_data,\n",
    "                total_examples=model.corpus_count,\n",
    "                epochs=model.epochs)\n",
    "    # decrease the learning rate\n",
    "    model.alpha -= 0.0002\n",
    "    # fix the learning rate, no decay\n",
    "    model.min_alpha = model.alpha\n",
    "\n",
    "model.save(\"d2v.model\")\n",
    "print(\"Model Saved\")"
   ]
  },
  {
   "cell_type": "code",
   "execution_count": 9,
   "id": "bcc39818-d628-4552-b4af-714c9f969967",
   "metadata": {},
   "outputs": [
    {
     "name": "stdout",
     "output_type": "stream",
     "text": [
      "inferred docvector for 'hello how are you':  [-0.01093568 -0.02517842  0.00999209  0.09974901 -0.05318025 -0.04517379\n",
      "  0.07879269  0.05937317 -0.22671673  0.128127   -0.01142383 -0.06740297\n",
      "  0.08196397  0.02540892  0.21912651  0.08684789  0.19351323 -0.07920938\n",
      " -0.1967826  -0.12773986]\n",
      "most similar docvectors to '1':  [('476', 0.8770961761474609), ('931', 0.7612701654434204), ('97', 0.7357650995254517), ('507', 0.7257499098777771), ('809', 0.7202396392822266), ('115', 0.7183747887611389), ('628', 0.7028269171714783), ('614', 0.6956087350845337), ('982', 0.6948331594467163), ('513', 0.6925621032714844)]\n",
      "docvector of '1':  [-1.943649    3.599486    3.6807935   5.4406576   2.2317433   0.45629153\n",
      " -2.156084   -2.4291666  -2.5245001   4.129967    4.2478714  -2.5440607\n",
      " -6.059978    2.5063508   0.98665833 -0.6410516   7.6319985  -1.8832783\n",
      " -4.286602   -5.9271917 ]\n"
     ]
    }
   ],
   "source": [
    "model= Doc2Vec.load(\"d2v.model\")\n",
    "#to find the vector of a document which is not in training data\n",
    "test_data = word_tokenize(\"hello how are you\".lower())\n",
    "v1 = model.infer_vector(test_data)\n",
    "print(\"inferred docvector for 'hello how are you': \", v1)\n",
    "\n",
    "print(\"most similar docvectors to '1': \",model.dv.most_similar('1'))\n",
    "\n",
    "print(\"docvector of '1': \",model.dv['1'])"
   ]
  },
  {
   "cell_type": "code",
   "execution_count": 10,
   "id": "6cf55192-14ff-48c6-8824-0585b4c814c6",
   "metadata": {},
   "outputs": [],
   "source": [
    "doc_vectors = {doc:model.infer_vector(word_tokenize(doc.lower())) for doc in sample_data}"
   ]
  },
  {
   "cell_type": "code",
   "execution_count": 11,
   "id": "50512a84-b93e-4062-8ab8-75b58c864c3b",
   "metadata": {},
   "outputs": [
    {
     "data": {
      "text/plain": [
       "array([ 0.10144184, -0.0740272 ,  0.24806914,  0.07146117, -0.10649122,\n",
       "       -0.04267068,  0.07456367,  0.4494723 , -0.46323976,  0.00228308,\n",
       "        0.17992054, -0.12405336,  0.2996286 ,  0.01202753,  0.3043759 ,\n",
       "        0.27195317,  0.42608157, -0.14375515, -0.4619377 , -0.34653863],\n",
       "      dtype=float32)"
      ]
     },
     "execution_count": 11,
     "metadata": {},
     "output_type": "execute_result"
    }
   ],
   "source": [
    "list(doc_vectors.values())[0]"
   ]
  },
  {
   "cell_type": "code",
   "execution_count": 12,
   "id": "84da8feb-2a80-449c-bb7e-2b202d3fcfe2",
   "metadata": {},
   "outputs": [],
   "source": [
    "#perform k-means clustering on embedded documents"
   ]
  },
  {
   "cell_type": "code",
   "execution_count": 13,
   "id": "dd8a3e34-8cc2-451f-95b6-8fbe723fdde7",
   "metadata": {},
   "outputs": [
    {
     "data": {
      "image/png": "[encoded data removed]",
      "text/plain": [
       "<Figure size 640x480 with 1 Axes>"
      ]
     },
     "metadata": {},
     "output_type": "display_data"
    }
   ],
   "source": [
    "from sklearn.cluster import KMeans\n",
    "\n",
    "data = list(doc_vectors.values())\n",
    "inertias = []\n",
    "\n",
    "for i in range(1,11):\n",
    "    kmeans = KMeans(n_clusters=i)\n",
    "    kmeans.fit(data)\n",
    "    inertias.append(kmeans.inertia_)\n",
    "\n",
    "plt.plot(range(1,11), inertias, marker='o')\n",
    "plt.title('Elbow method')\n",
    "plt.xlabel('Number of clusters')\n",
    "plt.ylabel('Inertia')\n",
    "plt.show()"
   ]
  },
  {
   "cell_type": "code",
   "execution_count": 143,
   "id": "440bbf86-2487-426d-8045-7fe505529455",
   "metadata": {},
   "outputs": [],
   "source": [
    "num_clusters = 4\n",
    "cluster_indices = [i for i in range(num_clusters)]"
   ]
  },
  {
   "cell_type": "code",
   "execution_count": 144,
   "id": "972daca5-918e-4f04-8af4-acc62071e7cc",
   "metadata": {},
   "outputs": [
    {
     "data": {
      "text/html": [
       "<style>#sk-container-id-3 {\n",
       "  /* Definition of color scheme common for light and dark mode */\n",
       "  --sklearn-color-text: black;\n",
       "  --sklearn-color-line: gray;\n",
       "  /* Definition of color scheme for unfitted estimators */\n",
       "  --sklearn-color-unfitted-level-0: #fff5e6;\n",
       "  --sklearn-color-unfitted-level-1: #f6e4d2;\n",
       "  --sklearn-color-unfitted-level-2: #ffe0b3;\n",
       "  --sklearn-color-unfitted-level-3: chocolate;\n",
       "  /* Definition of color scheme for fitted estimators */\n",
       "  --sklearn-color-fitted-level-0: #f0f8ff;\n",
       "  --sklearn-color-fitted-level-1: #d4ebff;\n",
       "  --sklearn-color-fitted-level-2: #b3dbfd;\n",
       "  --sklearn-color-fitted-level-3: cornflowerblue;\n",
       "\n",
       "  /* Specific color for light theme */\n",
       "  --sklearn-color-text-on-default-background: var(--sg-text-color, var(--theme-code-foreground, var(--jp-content-font-color1, black)));\n",
       "  --sklearn-color-background: var(--sg-background-color, var(--theme-background, var(--jp-layout-color0, white)));\n",
       "  --sklearn-color-border-box: var(--sg-text-color, var(--theme-code-foreground, var(--jp-content-font-color1, black)));\n",
       "  --sklearn-color-icon: #696969;\n",
       "\n",
       "  @media (prefers-color-scheme: dark) {\n",
       "    /* Redefinition of color scheme for dark theme */\n",
       "    --sklearn-color-text-on-default-background: var(--sg-text-color, var(--theme-code-foreground, var(--jp-content-font-color1, white)));\n",
       "    --sklearn-color-background: var(--sg-background-color, var(--theme-background, var(--jp-layout-color0, #111)));\n",
       "    --sklearn-color-border-box: var(--sg-text-color, var(--theme-code-foreground, var(--jp-content-font-color1, white)));\n",
       "    --sklearn-color-icon: #878787;\n",
       "  }\n",
       "}\n",
       "\n",
       "#sk-container-id-3 {\n",
       "  color: var(--sklearn-color-text);\n",
       "}\n",
       "\n",
       "#sk-container-id-3 pre {\n",
       "  padding: 0;\n",
       "}\n",
       "\n",
       "#sk-container-id-3 input.sk-hidden--visually {\n",
       "  border: 0;\n",
       "  clip: rect(1px 1px 1px 1px);\n",
       "  clip: rect(1px, 1px, 1px, 1px);\n",
       "  height: 1px;\n",
       "  margin: -1px;\n",
       "  overflow: hidden;\n",
       "  padding: 0;\n",
       "  position: absolute;\n",
       "  width: 1px;\n",
       "}\n",
       "\n",
       "#sk-container-id-3 div.sk-dashed-wrapped {\n",
       "  border: 1px dashed var(--sklearn-color-line);\n",
       "  margin: 0 0.4em 0.5em 0.4em;\n",
       "  box-sizing: border-box;\n",
       "  padding-bottom: 0.4em;\n",
       "  background-color: var(--sklearn-color-background);\n",
       "}\n",
       "\n",
       "#sk-container-id-3 div.sk-container {\n",
       "  /* jupyter's `normalize.less` sets `[hidden] { display: none; }`\n",
       "     but bootstrap.min.css set `[hidden] { display: none !important; }`\n",
       "     so we also need the `!important` here to be able to override the\n",
       "     default hidden behavior on the sphinx rendered scikit-learn.org.\n",
       "     See: https://github.com/scikit-learn/scikit-learn/issues/21755 */\n",
       "  display: inline-block !important;\n",
       "  position: relative;\n",
       "}\n",
       "\n",
       "#sk-container-id-3 div.sk-text-repr-fallback {\n",
       "  display: none;\n",
       "}\n",
       "\n",
       "div.sk-parallel-item,\n",
       "div.sk-serial,\n",
       "div.sk-item {\n",
       "  /* draw centered vertical line to link estimators */\n",
       "  background-image: linear-gradient(var(--sklearn-color-text-on-default-background), var(--sklearn-color-text-on-default-background));\n",
       "  background-size: 2px 100%;\n",
       "  background-repeat: no-repeat;\n",
       "  background-position: center center;\n",
       "}\n",
       "\n",
       "/* Parallel-specific style estimator block */\n",
       "\n",
       "#sk-container-id-3 div.sk-parallel-item::after {\n",
       "  content: \"\";\n",
       "  width: 100%;\n",
       "  border-bottom: 2px solid var(--sklearn-color-text-on-default-background);\n",
       "  flex-grow: 1;\n",
       "}\n",
       "\n",
       "#sk-container-id-3 div.sk-parallel {\n",
       "  display: flex;\n",
       "  align-items: stretch;\n",
       "  justify-content: center;\n",
       "  background-color: var(--sklearn-color-background);\n",
       "  position: relative;\n",
       "}\n",
       "\n",
       "#sk-container-id-3 div.sk-parallel-item {\n",
       "  display: flex;\n",
       "  flex-direction: column;\n",
       "}\n",
       "\n",
       "#sk-container-id-3 div.sk-parallel-item:first-child::after {\n",
       "  align-self: flex-end;\n",
       "  width: 50%;\n",
       "}\n",
       "\n",
       "#sk-container-id-3 div.sk-parallel-item:last-child::after {\n",
       "  align-self: flex-start;\n",
       "  width: 50%;\n",
       "}\n",
       "\n",
       "#sk-container-id-3 div.sk-parallel-item:only-child::after {\n",
       "  width: 0;\n",
       "}\n",
       "\n",
       "/* Serial-specific style estimator block */\n",
       "\n",
       "#sk-container-id-3 div.sk-serial {\n",
       "  display: flex;\n",
       "  flex-direction: column;\n",
       "  align-items: center;\n",
       "  background-color: var(--sklearn-color-background);\n",
       "  padding-right: 1em;\n",
       "  padding-left: 1em;\n",
       "}\n",
       "\n",
       "\n",
       "/* Toggleable style: style used for estimator/Pipeline/ColumnTransformer box that is\n",
       "clickable and can be expanded/collapsed.\n",
       "- Pipeline and ColumnTransformer use this feature and define the default style\n",
       "- Estimators will overwrite some part of the style using the `sk-estimator` class\n",
       "*/\n",
       "\n",
       "/* Pipeline and ColumnTransformer style (default) */\n",
       "\n",
       "#sk-container-id-3 div.sk-toggleable {\n",
       "  /* Default theme specific background. It is overwritten whether we have a\n",
       "  specific estimator or a Pipeline/ColumnTransformer */\n",
       "  background-color: var(--sklearn-color-background);\n",
       "}\n",
       "\n",
       "/* Toggleable label */\n",
       "#sk-container-id-3 label.sk-toggleable__label {\n",
       "  cursor: pointer;\n",
       "  display: block;\n",
       "  width: 100%;\n",
       "  margin-bottom: 0;\n",
       "  padding: 0.5em;\n",
       "  box-sizing: border-box;\n",
       "  text-align: center;\n",
       "}\n",
       "\n",
       "#sk-container-id-3 label.sk-toggleable__label-arrow:before {\n",
       "  /* Arrow on the left of the label */\n",
       "  content: \"▸\";\n",
       "  float: left;\n",
       "  margin-right: 0.25em;\n",
       "  color: var(--sklearn-color-icon);\n",
       "}\n",
       "\n",
       "#sk-container-id-3 label.sk-toggleable__label-arrow:hover:before {\n",
       "  color: var(--sklearn-color-text);\n",
       "}\n",
       "\n",
       "/* Toggleable content - dropdown */\n",
       "\n",
       "#sk-container-id-3 div.sk-toggleable__content {\n",
       "  max-height: 0;\n",
       "  max-width: 0;\n",
       "  overflow: hidden;\n",
       "  text-align: left;\n",
       "  /* unfitted */\n",
       "  background-color: var(--sklearn-color-unfitted-level-0);\n",
       "}\n",
       "\n",
       "#sk-container-id-3 div.sk-toggleable__content.fitted {\n",
       "  /* fitted */\n",
       "  background-color: var(--sklearn-color-fitted-level-0);\n",
       "}\n",
       "\n",
       "#sk-container-id-3 div.sk-toggleable__content pre {\n",
       "  margin: 0.2em;\n",
       "  border-radius: 0.25em;\n",
       "  color: var(--sklearn-color-text);\n",
       "  /* unfitted */\n",
       "  background-color: var(--sklearn-color-unfitted-level-0);\n",
       "}\n",
       "\n",
       "#sk-container-id-3 div.sk-toggleable__content.fitted pre {\n",
       "  /* unfitted */\n",
       "  background-color: var(--sklearn-color-fitted-level-0);\n",
       "}\n",
       "\n",
       "#sk-container-id-3 input.sk-toggleable__control:checked~div.sk-toggleable__content {\n",
       "  /* Expand drop-down */\n",
       "  max-height: 200px;\n",
       "  max-width: 100%;\n",
       "  overflow: auto;\n",
       "}\n",
       "\n",
       "#sk-container-id-3 input.sk-toggleable__control:checked~label.sk-toggleable__label-arrow:before {\n",
       "  content: \"▾\";\n",
       "}\n",
       "\n",
       "/* Pipeline/ColumnTransformer-specific style */\n",
       "\n",
       "#sk-container-id-3 div.sk-label input.sk-toggleable__control:checked~label.sk-toggleable__label {\n",
       "  color: var(--sklearn-color-text);\n",
       "  background-color: var(--sklearn-color-unfitted-level-2);\n",
       "}\n",
       "\n",
       "#sk-container-id-3 div.sk-label.fitted input.sk-toggleable__control:checked~label.sk-toggleable__label {\n",
       "  background-color: var(--sklearn-color-fitted-level-2);\n",
       "}\n",
       "\n",
       "/* Estimator-specific style */\n",
       "\n",
       "/* Colorize estimator box */\n",
       "#sk-container-id-3 div.sk-estimator input.sk-toggleable__control:checked~label.sk-toggleable__label {\n",
       "  /* unfitted */\n",
       "  background-color: var(--sklearn-color-unfitted-level-2);\n",
       "}\n",
       "\n",
       "#sk-container-id-3 div.sk-estimator.fitted input.sk-toggleable__control:checked~label.sk-toggleable__label {\n",
       "  /* fitted */\n",
       "  background-color: var(--sklearn-color-fitted-level-2);\n",
       "}\n",
       "\n",
       "#sk-container-id-3 div.sk-label label.sk-toggleable__label,\n",
       "#sk-container-id-3 div.sk-label label {\n",
       "  /* The background is the default theme color */\n",
       "  color: var(--sklearn-color-text-on-default-background);\n",
       "}\n",
       "\n",
       "/* On hover, darken the color of the background */\n",
       "#sk-container-id-3 div.sk-label:hover label.sk-toggleable__label {\n",
       "  color: var(--sklearn-color-text);\n",
       "  background-color: var(--sklearn-color-unfitted-level-2);\n",
       "}\n",
       "\n",
       "/* Label box, darken color on hover, fitted */\n",
       "#sk-container-id-3 div.sk-label.fitted:hover label.sk-toggleable__label.fitted {\n",
       "  color: var(--sklearn-color-text);\n",
       "  background-color: var(--sklearn-color-fitted-level-2);\n",
       "}\n",
       "\n",
       "/* Estimator label */\n",
       "\n",
       "#sk-container-id-3 div.sk-label label {\n",
       "  font-family: monospace;\n",
       "  font-weight: bold;\n",
       "  display: inline-block;\n",
       "  line-height: 1.2em;\n",
       "}\n",
       "\n",
       "#sk-container-id-3 div.sk-label-container {\n",
       "  text-align: center;\n",
       "}\n",
       "\n",
       "/* Estimator-specific */\n",
       "#sk-container-id-3 div.sk-estimator {\n",
       "  font-family: monospace;\n",
       "  border: 1px dotted var(--sklearn-color-border-box);\n",
       "  border-radius: 0.25em;\n",
       "  box-sizing: border-box;\n",
       "  margin-bottom: 0.5em;\n",
       "  /* unfitted */\n",
       "  background-color: var(--sklearn-color-unfitted-level-0);\n",
       "}\n",
       "\n",
       "#sk-container-id-3 div.sk-estimator.fitted {\n",
       "  /* fitted */\n",
       "  background-color: var(--sklearn-color-fitted-level-0);\n",
       "}\n",
       "\n",
       "/* on hover */\n",
       "#sk-container-id-3 div.sk-estimator:hover {\n",
       "  /* unfitted */\n",
       "  background-color: var(--sklearn-color-unfitted-level-2);\n",
       "}\n",
       "\n",
       "#sk-container-id-3 div.sk-estimator.fitted:hover {\n",
       "  /* fitted */\n",
       "  background-color: var(--sklearn-color-fitted-level-2);\n",
       "}\n",
       "\n",
       "/* Specification for estimator info (e.g. \"i\" and \"?\") */\n",
       "\n",
       "/* Common style for \"i\" and \"?\" */\n",
       "\n",
       ".sk-estimator-doc-link,\n",
       "a:link.sk-estimator-doc-link,\n",
       "a:visited.sk-estimator-doc-link {\n",
       "  float: right;\n",
       "  font-size: smaller;\n",
       "  line-height: 1em;\n",
       "  font-family: monospace;\n",
       "  background-color: var(--sklearn-color-background);\n",
       "  border-radius: 1em;\n",
       "  height: 1em;\n",
       "  width: 1em;\n",
       "  text-decoration: none !important;\n",
       "  margin-left: 1ex;\n",
       "  /* unfitted */\n",
       "  border: var(--sklearn-color-unfitted-level-1) 1pt solid;\n",
       "  color: var(--sklearn-color-unfitted-level-1);\n",
       "}\n",
       "\n",
       ".sk-estimator-doc-link.fitted,\n",
       "a:link.sk-estimator-doc-link.fitted,\n",
       "a:visited.sk-estimator-doc-link.fitted {\n",
       "  /* fitted */\n",
       "  border: var(--sklearn-color-fitted-level-1) 1pt solid;\n",
       "  color: var(--sklearn-color-fitted-level-1);\n",
       "}\n",
       "\n",
       "/* On hover */\n",
       "div.sk-estimator:hover .sk-estimator-doc-link:hover,\n",
       ".sk-estimator-doc-link:hover,\n",
       "div.sk-label-container:hover .sk-estimator-doc-link:hover,\n",
       ".sk-estimator-doc-link:hover {\n",
       "  /* unfitted */\n",
       "  background-color: var(--sklearn-color-unfitted-level-3);\n",
       "  color: var(--sklearn-color-background);\n",
       "  text-decoration: none;\n",
       "}\n",
       "\n",
       "div.sk-estimator.fitted:hover .sk-estimator-doc-link.fitted:hover,\n",
       ".sk-estimator-doc-link.fitted:hover,\n",
       "div.sk-label-container:hover .sk-estimator-doc-link.fitted:hover,\n",
       ".sk-estimator-doc-link.fitted:hover {\n",
       "  /* fitted */\n",
       "  background-color: var(--sklearn-color-fitted-level-3);\n",
       "  color: var(--sklearn-color-background);\n",
       "  text-decoration: none;\n",
       "}\n",
       "\n",
       "/* Span, style for the box shown on hovering the info icon */\n",
       ".sk-estimator-doc-link span {\n",
       "  display: none;\n",
       "  z-index: 9999;\n",
       "  position: relative;\n",
       "  font-weight: normal;\n",
       "  right: .2ex;\n",
       "  padding: .5ex;\n",
       "  margin: .5ex;\n",
       "  width: min-content;\n",
       "  min-width: 20ex;\n",
       "  max-width: 50ex;\n",
       "  color: var(--sklearn-color-text);\n",
       "  box-shadow: 2pt 2pt 4pt #999;\n",
       "  /* unfitted */\n",
       "  background: var(--sklearn-color-unfitted-level-0);\n",
       "  border: .5pt solid var(--sklearn-color-unfitted-level-3);\n",
       "}\n",
       "\n",
       ".sk-estimator-doc-link.fitted span {\n",
       "  /* fitted */\n",
       "  background: var(--sklearn-color-fitted-level-0);\n",
       "  border: var(--sklearn-color-fitted-level-3);\n",
       "}\n",
       "\n",
       ".sk-estimator-doc-link:hover span {\n",
       "  display: block;\n",
       "}\n",
       "\n",
       "/* \"?\"-specific style due to the `<a>` HTML tag */\n",
       "\n",
       "#sk-container-id-3 a.estimator_doc_link {\n",
       "  float: right;\n",
       "  font-size: 1rem;\n",
       "  line-height: 1em;\n",
       "  font-family: monospace;\n",
       "  background-color: var(--sklearn-color-background);\n",
       "  border-radius: 1rem;\n",
       "  height: 1rem;\n",
       "  width: 1rem;\n",
       "  text-decoration: none;\n",
       "  /* unfitted */\n",
       "  color: var(--sklearn-color-unfitted-level-1);\n",
       "  border: var(--sklearn-color-unfitted-level-1) 1pt solid;\n",
       "}\n",
       "\n",
       "#sk-container-id-3 a.estimator_doc_link.fitted {\n",
       "  /* fitted */\n",
       "  border: var(--sklearn-color-fitted-level-1) 1pt solid;\n",
       "  color: var(--sklearn-color-fitted-level-1);\n",
       "}\n",
       "\n",
       "/* On hover */\n",
       "#sk-container-id-3 a.estimator_doc_link:hover {\n",
       "  /* unfitted */\n",
       "  background-color: var(--sklearn-color-unfitted-level-3);\n",
       "  color: var(--sklearn-color-background);\n",
       "  text-decoration: none;\n",
       "}\n",
       "\n",
       "#sk-container-id-3 a.estimator_doc_link.fitted:hover {\n",
       "  /* fitted */\n",
       "  background-color: var(--sklearn-color-fitted-level-3);\n",
       "}\n",
       "</style><div id=\"sk-container-id-3\" class=\"sk-top-container\"><div class=\"sk-text-repr-fallback\"><pre>KMeans(n_clusters=4)</pre><b>In a Jupyter environment, please rerun this cell to show the HTML representation or trust the notebook. <br />On GitHub, the HTML representation is unable to render, please try loading this page with nbviewer.org.</b></div><div class=\"sk-container\" hidden><div class=\"sk-item\"><div class=\"sk-estimator fitted sk-toggleable\"><input class=\"sk-toggleable__control sk-hidden--visually\" id=\"sk-estimator-id-3\" type=\"checkbox\" checked><label for=\"sk-estimator-id-3\" class=\"sk-toggleable__label fitted sk-toggleable__label-arrow fitted\">&nbsp;&nbsp;KMeans<a class=\"sk-estimator-doc-link fitted\" rel=\"noreferrer\" target=\"_blank\" href=\"https://scikit-learn.org/1.5/modules/generated/sklearn.cluster.KMeans.html\">?<span>Documentation for KMeans</span></a><span class=\"sk-estimator-doc-link fitted\">i<span>Fitted</span></span></label><div class=\"sk-toggleable__content fitted\"><pre>KMeans(n_clusters=4)</pre></div> </div></div></div></div>"
      ],
      "text/plain": [
       "KMeans(n_clusters=4)"
      ]
     },
     "execution_count": 144,
     "metadata": {},
     "output_type": "execute_result"
    }
   ],
   "source": [
    "kmeans = KMeans(n_clusters=num_clusters)\n",
    "kmeans.fit(data)"
   ]
  },
  {
   "cell_type": "code",
   "execution_count": 16,
   "id": "a1804274-25ce-4a0d-8d1d-9a8ee8fc5d8e",
   "metadata": {},
   "outputs": [],
   "source": [
    "#find centroids. compute bigram closest to centroid"
   ]
  },
  {
   "cell_type": "code",
   "execution_count": 145,
   "id": "e44a20ee-305f-4fb9-887e-8a01f9616b90",
   "metadata": {},
   "outputs": [
    {
     "data": {
      "text/plain": [
       "array([[ 0.00358932, -0.01691401,  0.11756972,  0.06422841, -0.06759675,\n",
       "        -0.00708481,  0.07078235,  0.15590707, -0.20354783,  0.05033203,\n",
       "         0.10502342, -0.07956808,  0.12566892,  0.02576725,  0.11924433,\n",
       "         0.13367625,  0.22616821, -0.04847854, -0.18508539, -0.19137434],\n",
       "       [ 0.07553463, -0.10051481,  0.42797424,  0.26841848, -0.19801443,\n",
       "        -0.09409943,  0.24625748,  0.60751993, -0.72252576,  0.20096686,\n",
       "         0.35103443, -0.30270087,  0.43845901,  0.10414601,  0.43344981,\n",
       "         0.4376741 ,  0.78153026, -0.17190053, -0.61720924, -0.70535419],\n",
       "       [ 0.0604901 , -0.06160516,  0.32860205,  0.17639149, -0.1627997 ,\n",
       "        -0.0429148 ,  0.1877608 ,  0.44400914, -0.54979925,  0.15490841,\n",
       "         0.26730367, -0.22905896,  0.33250226,  0.08436442,  0.33905754,\n",
       "         0.32357121,  0.61006281, -0.14725822, -0.47545327, -0.51453032],\n",
       "       [ 0.03434806, -0.03482341,  0.22987996,  0.13155053, -0.12335835,\n",
       "        -0.02561232,  0.12883297,  0.30384399, -0.38405891,  0.10529728,\n",
       "         0.18635006, -0.14192076,  0.23599487,  0.05555403,  0.22832109,\n",
       "         0.24125692,  0.42956489, -0.1059596 , -0.33616302, -0.36418064]])"
      ]
     },
     "execution_count": 145,
     "metadata": {},
     "output_type": "execute_result"
    }
   ],
   "source": [
    "centroids  = kmeans.cluster_centers_; centroids"
   ]
  },
  {
   "cell_type": "code",
   "execution_count": 146,
   "id": "e4885cc1-4250-4284-a79b-d4bb10f88aec",
   "metadata": {},
   "outputs": [
    {
     "data": {
      "text/plain": [
       "[1.3717001623711627,\n",
       " 0.908493481229919,\n",
       " 0.4765700464528176,\n",
       " 0.46749954637321195,\n",
       " 0.8969758807810774,\n",
       " 0.4332235573620715]"
      ]
     },
     "execution_count": 146,
     "metadata": {},
     "output_type": "execute_result"
    }
   ],
   "source": [
    "#compute distances between centroids\n",
    "centroid_dists = sum([[np.linalg.norm(centroids[i]-centroids[j]) for j in range(i+1,num_clusters)] for i in range(num_clusters)],[]); centroid_dists"
   ]
  },
  {
   "cell_type": "code",
   "execution_count": 147,
   "id": "db6bb8d5-1ee9-4710-ba5f-84b7e044b806",
   "metadata": {},
   "outputs": [],
   "source": [
    "# Applying PCA function on training\n",
    "# and testing set of X component\n",
    "from sklearn.decomposition import PCA\n",
    "pca = PCA(n_components=2)\n",
    "pca_fit = pca.fit_transform(list(doc_vectors.values()))\n",
    "explained_variance = pca.explained_variance_ratio_"
   ]
  },
  {
   "cell_type": "code",
   "execution_count": 150,
   "id": "b75e5e24-421d-4c74-9365-2c62f3d8a444",
   "metadata": {},
   "outputs": [
    {
     "data": {
      "image/png": "[encoded data removed]",
      "text/plain": [
       "<Figure size 640x480 with 1 Axes>"
      ]
     },
     "metadata": {},
     "output_type": "display_data"
    }
   ],
   "source": [
    "# plot the first two principal components with labels\n",
    "pca_labeled = list(zip(pca_fit,kmeans.labels_))\n",
    "colors = [\"r\", \"g\", \"b\", \"y\"]\n",
    "for index, color in zip(cluster_indices, colors):\n",
    "    pca_fit_cluster = [pt[0] for pt in pca_labeled if pt[1] == index]\n",
    "    pca_fit_i_x = np.array(pca_fit_cluster).transpose()[0]\n",
    "    pca_fit_i_y = np.array(pca_fit_cluster).transpose()[1]\n",
    "    plt.scatter(pca_fit_i_x, pca_fit_i_y, color=color, label=index)\n",
    "plt.xlabel(\"Principal Component 1\")\n",
    "plt.ylabel(\"Principal Component 2\")\n",
    "plt.legend()\n",
    "plt.show()"
   ]
  },
  {
   "cell_type": "code",
   "execution_count": 151,
   "id": "567ddc06-78fd-40dc-aa4d-c21a0d3aae0d",
   "metadata": {},
   "outputs": [],
   "source": [
    "#a selection of poliical words \n",
    "poltical_keywords = list(pd.read_csv(\"political_keywords.csv\"))"
   ]
  },
  {
   "cell_type": "code",
   "execution_count": 152,
   "id": "3a907cb2-b7f3-4355-aca1-5acc983b819f",
   "metadata": {},
   "outputs": [],
   "source": [
    "#create unique bigrams from list of political words\n",
    "bigrams = []\n",
    "for i in range(len(political_keywords)):\n",
    "    for j in range(i+1,len(political_keywords)):\n",
    "        bigrams.append(political_keywords[i] + \" \" + political_keywords[j])"
   ]
  },
  {
   "cell_type": "code",
   "execution_count": 153,
   "id": "28840ecb-b46e-49a7-b38c-f497dc195a3f",
   "metadata": {},
   "outputs": [],
   "source": [
    "bigram_vecs = {bigram:model.infer_vector(word_tokenize(bigram.lower())) for bigram in bigrams}"
   ]
  },
  {
   "cell_type": "code",
   "execution_count": 154,
   "id": "39a169df-dbfd-4d42-af7a-2b597229a348",
   "metadata": {},
   "outputs": [
    {
     "data": {
      "text/plain": [
       "array([ 0.01766049,  0.01944104,  0.05107738, -0.00629137, -0.067495  ,\n",
       "        0.00896789,  0.06618107,  0.0762449 , -0.01784236, -0.01886615,\n",
       "        0.02667937, -0.04930217,  0.01674647, -0.00536674,  0.03624224,\n",
       "        0.09291703,  0.08262505,  0.02986367, -0.0837747 , -0.0836793 ],\n",
       "      dtype=float32)"
      ]
     },
     "execution_count": 154,
     "metadata": {},
     "output_type": "execute_result"
    }
   ],
   "source": [
    "list(bigram_vecs.values())[0]"
   ]
  },
  {
   "cell_type": "code",
   "execution_count": 155,
   "id": "c3ed2e69-90ab-4c94-8f26-fa1cfdd8a665",
   "metadata": {},
   "outputs": [],
   "source": [
    "#define cosine similarity\n",
    "from numpy.linalg import norm\n",
    "def similarity(v,w):\n",
    "    return np.dot(v,w)/(norm(v)*norm(w))"
   ]
  },
  {
   "cell_type": "code",
   "execution_count": 156,
   "id": "608f752a-0e0b-4e1f-8a95-b995c054a824",
   "metadata": {},
   "outputs": [],
   "source": [
    "#find closest bigram to centroid\n",
    "nearest_bigram_to_centroid = []\n",
    "for centroid in centroids:\n",
    "    min_dist = 2\n",
    "    nearest_bigram = \"\"\n",
    "    for bigram, embedding in bigram_vecs.items():\n",
    "        dist = similarity(centroid, embedding)\n",
    "        if dist < min_dist:\n",
    "            min_dist = dist\n",
    "            nearest_bigram = bigram\n",
    "    nearest_bigram_to_centroid.append((nearest_bigram,min_dist))"
   ]
  },
  {
   "cell_type": "code",
   "execution_count": 157,
   "id": "3fc48441-6716-4423-b1b0-5ec0d5662670",
   "metadata": {},
   "outputs": [
    {
     "data": {
      "text/plain": [
       "[('security budget', -0.7247180153354426),\n",
       " ('justice budget', -0.7305703481414545),\n",
       " ('deficit debt', -0.7312663143430539),\n",
       " ('deficit debt', -0.7270651816497163)]"
      ]
     },
     "execution_count": 157,
     "metadata": {},
     "output_type": "execute_result"
    }
   ],
   "source": [
    "nearest_bigram_to_centroid"
   ]
  },
  {
   "cell_type": "code",
   "execution_count": 158,
   "id": "48ba16ca-464d-4f68-b12c-5d0ba68cd7cc",
   "metadata": {},
   "outputs": [],
   "source": [
    "#label the data with the appropriate label from k-means clustering\n",
    "labeled_data = list(zip(sample_data,kmeans.labels_))"
   ]
  },
  {
   "cell_type": "code",
   "execution_count": 159,
   "id": "5c056b24-0994-475a-886f-87bd86ad3867",
   "metadata": {},
   "outputs": [],
   "source": [
    "#separate documents by label. build vocabulary for each cluster\n",
    "cluster_vocab = [[] for label in cluster_indices]\n",
    "cluster_docs = [[] for label in cluster_indices]\n",
    "for doc, label in labeled_data:\n",
    "    cluster_vocab[label] += word_tokenize(doc.lower())\n",
    "    cluster_docs[label].append(doc)"
   ]
  },
  {
   "cell_type": "code",
   "execution_count": 123,
   "id": "30d604b6-221d-4fce-ba08-d05f5cde9138",
   "metadata": {},
   "outputs": [],
   "source": [
    "#METHOD 2) use word embeddings to compute distance from word to list of words, take closest words"
   ]
  },
  {
   "cell_type": "code",
   "execution_count": 34,
   "id": "6e86d69a-3c92-4581-8403-77a0d3ee1afc",
   "metadata": {},
   "outputs": [],
   "source": [
    "import spacy\n",
    "nlp=spacy.load(\"en_core_web_lg\")"
   ]
  },
  {
   "cell_type": "code",
   "execution_count": 35,
   "id": "63809e4b-8f98-4157-9b81-380f4bd2a312",
   "metadata": {},
   "outputs": [
    {
     "data": {
      "text/plain": [
       "0.5797264417406982"
      ]
     },
     "execution_count": 35,
     "metadata": {},
     "output_type": "execute_result"
    }
   ],
   "source": [
    "nlp(\"hello\").similarity(nlp(\"hi\"))"
   ]
  },
  {
   "cell_type": "code",
   "execution_count": 36,
   "id": "23fb1746-cac2-4f87-9a36-8d1dbf545076",
   "metadata": {},
   "outputs": [],
   "source": [
    "#define function which measures distance to a set of words using word embeddings and cosine similarity\n",
    "def dist_to_wordset(keyword,wordset):\n",
    "    return min([nlp(keyword).similarity(nlp(word)) for word in wordset])"
   ]
  },
  {
   "cell_type": "code",
   "execution_count": 37,
   "id": "e5126ba3-bf9f-4d89-8d5c-eea41b2e0de4",
   "metadata": {},
   "outputs": [
    {
     "name": "stderr",
     "output_type": "stream",
     "text": [
      "/var/folders/4d/rp7dhwss6znf18sks0v304d80000gn/T/ipykernel_2309/4047510694.py:3: UserWarning: [W008] Evaluating Doc.similarity based on empty vectors.\n",
      "  return min([nlp(keyword).similarity(nlp(word)) for word in wordset])\n"
     ]
    },
    {
     "data": {
      "text/plain": [
       "-0.263570855730982"
      ]
     },
     "execution_count": 37,
     "metadata": {},
     "output_type": "execute_result"
    }
   ],
   "source": [
    "dist_to_wordset(political_keywords[0],cluster_vocab[0])"
   ]
  },
  {
   "cell_type": "code",
   "execution_count": 38,
   "id": "891c2003-c122-4a5d-bc02-efc5dd629e9d",
   "metadata": {},
   "outputs": [],
   "source": [
    "#compute the political keyword with the closest distance\n",
    "#this is essentially computing the Hausdorff distance between these two sets\n",
    "def closest_keyword(keywords,wordset):\n",
    "    max_dist = -2\n",
    "    max_keyword = \"\"\n",
    "    for keyword in keywords:\n",
    "        dist = dist_to_wordset(keyword,wordset)\n",
    "        if dist > max_dist:\n",
    "            max_dist = dist\n",
    "            max_keyword = keyword\n",
    "    return (max_keyword,max_dist)"
   ]
  },
  {
   "cell_type": "code",
   "execution_count": 39,
   "id": "c789e550-0c11-4081-84e5-8fc1f4d758af",
   "metadata": {},
   "outputs": [
    {
     "name": "stderr",
     "output_type": "stream",
     "text": [
      "/var/folders/4d/rp7dhwss6znf18sks0v304d80000gn/T/ipykernel_2309/4047510694.py:3: UserWarning: [W008] Evaluating Doc.similarity based on empty vectors.\n",
      "  return min([nlp(keyword).similarity(nlp(word)) for word in wordset])\n"
     ]
    },
    {
     "data": {
      "text/plain": [
       "('republic', -0.2577690642582492)"
      ]
     },
     "execution_count": 39,
     "metadata": {},
     "output_type": "execute_result"
    }
   ],
   "source": [
    "closest_keyword(political_keywords[:3],cluster_vocab[0])"
   ]
  },
  {
   "cell_type": "code",
   "execution_count": 160,
   "id": "c98e2fa6-a609-41dd-8f9c-ee7ed4671637",
   "metadata": {},
   "outputs": [],
   "source": [
    "#METHOD 3: Use TF-IDF on each cluster to extract top two words\n",
    "from sklearn.feature_extraction.text import TfidfVectorizer\n",
    "def top_words_in_cluster(cluster_index,num_words=10):\n",
    "    tfidf_vectorizer = TfidfVectorizer(sublinear_tf=True, max_df=0.5, analyzer='word',stop_words='english')\n",
    "    corpus_tfidf = tfidf_vectorizer.fit_transform(cluster_docs[cluster_index])\n",
    "    tfidf_df = pd.DataFrame(corpus_tfidf.toarray(), columns = tfidf_vectorizer.get_feature_names_out())\n",
    "    tfidf_scores = tfidf_df.sum(axis=0)\n",
    "    return tfidf_scores.nlargest(n=num_words)"
   ]
  },
  {
   "cell_type": "code",
   "execution_count": 179,
   "id": "f5ecea0d-b548-46a4-9e56-f1cbd7aaf380",
   "metadata": {},
   "outputs": [
    {
     "data": {
      "text/plain": [
       "http               16.569958\n",
       "trump               8.030320\n",
       "night               6.465182\n",
       "https               6.168706\n",
       "realdonaldtrump     5.735237\n",
       "debate              5.713834\n",
       "foxnews             4.858788\n",
       "amp                 4.439087\n",
       "gop                 4.385032\n",
       "megynkelly          3.861005\n",
       "dtype: float64"
      ]
     },
     "execution_count": 179,
     "metadata": {},
     "output_type": "execute_result"
    }
   ],
   "source": [
    "top_words_in_cluster(3)"
   ]
  },
  {
   "cell_type": "code",
   "execution_count": null,
   "id": "701d10e1-e899-4369-be2a-89e903a435dc",
   "metadata": {},
   "outputs": [],
   "source": []
  }
 ],
 "metadata": {
  "kernelspec": {
   "display_name": "nlp",
   "language": "python",
   "name": "nlp"
  },
  "language_info": {
   "codemirror_mode": {
    "name": "ipython",
    "version": 3
   },
   "file_extension": ".py",
   "mimetype": "text/x-python",
   "name": "python",
   "nbconvert_exporter": "python",
   "pygments_lexer": "ipython3",
   "version": "3.10.0"
  }
 },
 "nbformat": 4,
 "nbformat_minor": 5
}
